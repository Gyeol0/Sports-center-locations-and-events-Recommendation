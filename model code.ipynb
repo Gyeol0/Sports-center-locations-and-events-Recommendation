{
 "cells": [
  {
   "cell_type": "code",
   "execution_count": 1,
   "metadata": {},
   "outputs": [],
   "source": [
    "import os\n",
    "import pandas as pd\n",
    "import numpy as np\n",
    "import matplotlib as mpl\n",
    "import matplotlib.pyplot as plt\n",
    "import seaborn as sns\n",
    "import warnings\n",
    "import math\n",
    "import copy\n",
    "os.chdir('C:/Users/user/Desktop/프로젝트')\n",
    "warnings.filterwarnings('ignore')"
   ]
  },
  {
   "cell_type": "code",
   "execution_count": 2,
   "metadata": {},
   "outputs": [],
   "source": [
    "from haversine import haversine"
   ]
  },
  {
   "cell_type": "markdown",
   "metadata": {},
   "source": [
    "## 격자 별 공공체육시설 최소 거리"
   ]
  },
  {
   "cell_type": "code",
   "execution_count": 3,
   "metadata": {},
   "outputs": [],
   "source": [
    "data_1=pd.read_csv('거주인구_위도경도.csv',encoding='cp949')\n",
    "data_reset_popindex = copy.deepcopy(data_1)\n",
    "data_reset_popindex=data_reset_popindex[['CTY_NM','X_AXIS','Y_AXIS','경도','위도','POP','POP_10','POP_20','POP_30','POP_40','POP_50','POP_60_O']]\n",
    "data_reset_popindex['min_dis']=0\n",
    "gong=pd.read_csv('서울시 공공체육시설 현황(2019).csv',encoding='cp949')\n",
    "def method_1(data_reset_popindex,gong):\n",
    "    l1=len(gong)\n",
    "    l2=len(data_reset_popindex)\n",
    "    gong_x=list(gong['위도'].astype('float'))\n",
    "    gong_y=list(gong['경도'].astype('float'))\n",
    "    data_x=list(data_reset_popindex['위도'].astype('float'))\n",
    "    data_y=list(data_reset_popindex['경도'].astype('float'))\n",
    "    for i in range(l2):\n",
    "        a=(data_x[i],data_y[i])\n",
    "        min_dis=9999999999999999\n",
    "        for j in range(l1):\n",
    "            b=(gong_x[j],gong_y[j])\n",
    "            dis=haversine(a,b, unit = 'm')\n",
    "            if min_dis>dis:\n",
    "                min_dis=dis\n",
    "        data_reset_popindex.iloc[i,12]=min_dis\n",
    "\n",
    "    return data_reset_popindex"
   ]
  },
  {
   "cell_type": "code",
   "execution_count": 4,
   "metadata": {},
   "outputs": [],
   "source": [
    "data_reset_pop = method_1(data_reset_popindex,gong)"
   ]
  },
  {
   "cell_type": "markdown",
   "metadata": {},
   "source": [
    "* 거리 칼럼 추가"
   ]
  },
  {
   "cell_type": "code",
   "execution_count": 5,
   "metadata": {},
   "outputs": [
    {
     "data": {
      "text/html": [
       "<div>\n",
       "<style scoped>\n",
       "    .dataframe tbody tr th:only-of-type {\n",
       "        vertical-align: middle;\n",
       "    }\n",
       "\n",
       "    .dataframe tbody tr th {\n",
       "        vertical-align: top;\n",
       "    }\n",
       "\n",
       "    .dataframe thead th {\n",
       "        text-align: right;\n",
       "    }\n",
       "</style>\n",
       "<table border=\"1\" class=\"dataframe\">\n",
       "  <thead>\n",
       "    <tr style=\"text-align: right;\">\n",
       "      <th></th>\n",
       "      <th>CTY_NM</th>\n",
       "      <th>X_AXIS</th>\n",
       "      <th>Y_AXIS</th>\n",
       "      <th>경도</th>\n",
       "      <th>위도</th>\n",
       "      <th>POP</th>\n",
       "      <th>POP_10</th>\n",
       "      <th>POP_20</th>\n",
       "      <th>POP_30</th>\n",
       "      <th>POP_40</th>\n",
       "      <th>POP_50</th>\n",
       "      <th>POP_60_O</th>\n",
       "      <th>min_dis</th>\n",
       "    </tr>\n",
       "  </thead>\n",
       "  <tbody>\n",
       "    <tr>\n",
       "      <th>0</th>\n",
       "      <td>동작구</td>\n",
       "      <td>307050</td>\n",
       "      <td>544550</td>\n",
       "      <td>126.945794</td>\n",
       "      <td>37.495686</td>\n",
       "      <td>446.33</td>\n",
       "      <td>109.34</td>\n",
       "      <td>50.29</td>\n",
       "      <td>95.34</td>\n",
       "      <td>65.09</td>\n",
       "      <td>62.81</td>\n",
       "      <td>63.46</td>\n",
       "      <td>590.842822</td>\n",
       "    </tr>\n",
       "    <tr>\n",
       "      <th>1</th>\n",
       "      <td>동작구</td>\n",
       "      <td>309850</td>\n",
       "      <td>543750</td>\n",
       "      <td>126.977553</td>\n",
       "      <td>37.488756</td>\n",
       "      <td>446.21</td>\n",
       "      <td>75.99</td>\n",
       "      <td>85.91</td>\n",
       "      <td>78.27</td>\n",
       "      <td>70.74</td>\n",
       "      <td>72.35</td>\n",
       "      <td>62.95</td>\n",
       "      <td>247.142918</td>\n",
       "    </tr>\n",
       "    <tr>\n",
       "      <th>2</th>\n",
       "      <td>동작구</td>\n",
       "      <td>308350</td>\n",
       "      <td>545350</td>\n",
       "      <td>126.960394</td>\n",
       "      <td>37.503023</td>\n",
       "      <td>128.32</td>\n",
       "      <td>17.52</td>\n",
       "      <td>29.28</td>\n",
       "      <td>16.37</td>\n",
       "      <td>21.75</td>\n",
       "      <td>19.60</td>\n",
       "      <td>23.80</td>\n",
       "      <td>578.184570</td>\n",
       "    </tr>\n",
       "    <tr>\n",
       "      <th>3</th>\n",
       "      <td>동작구</td>\n",
       "      <td>305550</td>\n",
       "      <td>544150</td>\n",
       "      <td>126.928884</td>\n",
       "      <td>37.491930</td>\n",
       "      <td>374.03</td>\n",
       "      <td>69.40</td>\n",
       "      <td>53.73</td>\n",
       "      <td>78.98</td>\n",
       "      <td>53.09</td>\n",
       "      <td>60.78</td>\n",
       "      <td>58.05</td>\n",
       "      <td>366.870891</td>\n",
       "    </tr>\n",
       "    <tr>\n",
       "      <th>4</th>\n",
       "      <td>동작구</td>\n",
       "      <td>306450</td>\n",
       "      <td>544850</td>\n",
       "      <td>126.938971</td>\n",
       "      <td>37.498328</td>\n",
       "      <td>452.06</td>\n",
       "      <td>75.69</td>\n",
       "      <td>70.77</td>\n",
       "      <td>92.50</td>\n",
       "      <td>68.39</td>\n",
       "      <td>72.52</td>\n",
       "      <td>72.19</td>\n",
       "      <td>767.001922</td>\n",
       "    </tr>\n",
       "    <tr>\n",
       "      <th>...</th>\n",
       "      <td>...</td>\n",
       "      <td>...</td>\n",
       "      <td>...</td>\n",
       "      <td>...</td>\n",
       "      <td>...</td>\n",
       "      <td>...</td>\n",
       "      <td>...</td>\n",
       "      <td>...</td>\n",
       "      <td>...</td>\n",
       "      <td>...</td>\n",
       "      <td>...</td>\n",
       "      <td>...</td>\n",
       "      <td>...</td>\n",
       "    </tr>\n",
       "    <tr>\n",
       "      <th>29653</th>\n",
       "      <td>은평구</td>\n",
       "      <td>304150</td>\n",
       "      <td>557750</td>\n",
       "      <td>126.911278</td>\n",
       "      <td>37.614311</td>\n",
       "      <td>478.90</td>\n",
       "      <td>104.71</td>\n",
       "      <td>70.62</td>\n",
       "      <td>80.12</td>\n",
       "      <td>81.94</td>\n",
       "      <td>74.76</td>\n",
       "      <td>66.75</td>\n",
       "      <td>535.597496</td>\n",
       "    </tr>\n",
       "    <tr>\n",
       "      <th>29654</th>\n",
       "      <td>은평구</td>\n",
       "      <td>303750</td>\n",
       "      <td>556550</td>\n",
       "      <td>126.906906</td>\n",
       "      <td>37.603459</td>\n",
       "      <td>402.31</td>\n",
       "      <td>113.48</td>\n",
       "      <td>65.10</td>\n",
       "      <td>74.72</td>\n",
       "      <td>72.35</td>\n",
       "      <td>49.57</td>\n",
       "      <td>27.09</td>\n",
       "      <td>1101.272455</td>\n",
       "    </tr>\n",
       "    <tr>\n",
       "      <th>29655</th>\n",
       "      <td>관악구</td>\n",
       "      <td>305450</td>\n",
       "      <td>543050</td>\n",
       "      <td>126.927895</td>\n",
       "      <td>37.482009</td>\n",
       "      <td>60.58</td>\n",
       "      <td>3.58</td>\n",
       "      <td>15.87</td>\n",
       "      <td>13.20</td>\n",
       "      <td>8.36</td>\n",
       "      <td>8.08</td>\n",
       "      <td>11.49</td>\n",
       "      <td>557.694127</td>\n",
       "    </tr>\n",
       "    <tr>\n",
       "      <th>29656</th>\n",
       "      <td>서초구</td>\n",
       "      <td>313850</td>\n",
       "      <td>544450</td>\n",
       "      <td>127.022698</td>\n",
       "      <td>37.495444</td>\n",
       "      <td>269.18</td>\n",
       "      <td>41.36</td>\n",
       "      <td>42.13</td>\n",
       "      <td>21.89</td>\n",
       "      <td>45.68</td>\n",
       "      <td>77.85</td>\n",
       "      <td>40.27</td>\n",
       "      <td>355.719463</td>\n",
       "    </tr>\n",
       "    <tr>\n",
       "      <th>29657</th>\n",
       "      <td>노원구</td>\n",
       "      <td>317350</td>\n",
       "      <td>562850</td>\n",
       "      <td>127.060200</td>\n",
       "      <td>37.661541</td>\n",
       "      <td>608.78</td>\n",
       "      <td>154.84</td>\n",
       "      <td>73.94</td>\n",
       "      <td>144.50</td>\n",
       "      <td>93.38</td>\n",
       "      <td>74.60</td>\n",
       "      <td>67.52</td>\n",
       "      <td>880.677080</td>\n",
       "    </tr>\n",
       "  </tbody>\n",
       "</table>\n",
       "<p>29658 rows × 13 columns</p>\n",
       "</div>"
      ],
      "text/plain": [
       "      CTY_NM  X_AXIS  Y_AXIS          경도         위도     POP  POP_10  POP_20  \\\n",
       "0        동작구  307050  544550  126.945794  37.495686  446.33  109.34   50.29   \n",
       "1        동작구  309850  543750  126.977553  37.488756  446.21   75.99   85.91   \n",
       "2        동작구  308350  545350  126.960394  37.503023  128.32   17.52   29.28   \n",
       "3        동작구  305550  544150  126.928884  37.491930  374.03   69.40   53.73   \n",
       "4        동작구  306450  544850  126.938971  37.498328  452.06   75.69   70.77   \n",
       "...      ...     ...     ...         ...        ...     ...     ...     ...   \n",
       "29653    은평구  304150  557750  126.911278  37.614311  478.90  104.71   70.62   \n",
       "29654    은평구  303750  556550  126.906906  37.603459  402.31  113.48   65.10   \n",
       "29655    관악구  305450  543050  126.927895  37.482009   60.58    3.58   15.87   \n",
       "29656    서초구  313850  544450  127.022698  37.495444  269.18   41.36   42.13   \n",
       "29657    노원구  317350  562850  127.060200  37.661541  608.78  154.84   73.94   \n",
       "\n",
       "       POP_30  POP_40  POP_50  POP_60_O      min_dis  \n",
       "0       95.34   65.09   62.81     63.46   590.842822  \n",
       "1       78.27   70.74   72.35     62.95   247.142918  \n",
       "2       16.37   21.75   19.60     23.80   578.184570  \n",
       "3       78.98   53.09   60.78     58.05   366.870891  \n",
       "4       92.50   68.39   72.52     72.19   767.001922  \n",
       "...       ...     ...     ...       ...          ...  \n",
       "29653   80.12   81.94   74.76     66.75   535.597496  \n",
       "29654   74.72   72.35   49.57     27.09  1101.272455  \n",
       "29655   13.20    8.36    8.08     11.49   557.694127  \n",
       "29656   21.89   45.68   77.85     40.27   355.719463  \n",
       "29657  144.50   93.38   74.60     67.52   880.677080  \n",
       "\n",
       "[29658 rows x 13 columns]"
      ]
     },
     "execution_count": 5,
     "metadata": {},
     "output_type": "execute_result"
    }
   ],
   "source": [
    "data_reset_pop"
   ]
  },
  {
   "cell_type": "markdown",
   "metadata": {},
   "source": [
    "* 연령별 참여도 가중치(설문조사 데이터)"
   ]
  },
  {
   "cell_type": "code",
   "execution_count": 6,
   "metadata": {},
   "outputs": [],
   "source": [
    "pop_sum=data_reset_pop['POP_10']*0.073+data_reset_pop['POP_20']*0.1219+data_reset_pop['POP_30']*0.214+data_reset_pop['POP_40']*0.247+data_reset_pop['POP_50']*0.293+data_reset_pop['POP_60_O']*0.287\n",
    "data_reset_pop['NEW_POP'] = pop_sum\n",
    "data_reset_pop['dis_pop']=data_reset_pop['min_dis']*data_reset_pop['NEW_POP']"
   ]
  },
  {
   "cell_type": "markdown",
   "metadata": {},
   "source": [
    "* 구별 공공체육시설 평균 거리(가중평균)\n",
    "* 가장 높은 강서구에 대한 공공체육시설 입지 분석"
   ]
  },
  {
   "cell_type": "code",
   "execution_count": 7,
   "metadata": {},
   "outputs": [
    {
     "data": {
      "text/plain": [
       "CTY_NM\n",
       "강서구     796.380817\n",
       "송파구     689.050129\n",
       "종로구     687.114190\n",
       "은평구     660.708061\n",
       "강북구     617.066274\n",
       "금천구     611.980317\n",
       "구로구     608.799838\n",
       "중랑구     602.668244\n",
       "관악구     571.007878\n",
       "동대문구    569.623019\n",
       "강남구     567.829230\n",
       "서초구     566.213991\n",
       "성북구     545.718993\n",
       "서대문구    535.439437\n",
       "강동구     535.279568\n",
       "동작구     533.010087\n",
       "용산구     526.942141\n",
       "광진구     522.537712\n",
       "영등포구    514.223261\n",
       "양천구     511.854449\n",
       "마포구     473.013522\n",
       "노원구     464.601064\n",
       "성동구     441.560252\n",
       "도봉구     430.066510\n",
       "중구      327.341232\n",
       "dtype: float64"
      ]
     },
     "execution_count": 7,
     "metadata": {},
     "output_type": "execute_result"
    }
   ],
   "source": [
    "data_group=data_reset_pop.groupby('CTY_NM').sum()\n",
    "group_pop=data_group['POP_10']*0.073+data_group['POP_20']*0.1219+data_group['POP_30']*0.214+data_group['POP_40']*0.247+data_group['POP_50']*0.293+data_group['POP_60_O']*0.287\n",
    "per_dis_list=data_group['dis_pop']/group_pop\n",
    "per_dis_list=per_dis_list.sort_values(ascending=False)\n",
    "per_dis_list"
   ]
  },
  {
   "cell_type": "code",
   "execution_count": 8,
   "metadata": {},
   "outputs": [],
   "source": [
    "school=pd.read_csv('서울시 초, 중, 고 학교 위치.csv',encoding='cp949')  ##강서구 학교 \n",
    "school=school[school['시도교육청명']=='서울특별시교육청']\n",
    "gangsu=school[school['소재지지번주소'].apply(lambda x: '강서구' in x)].reset_index(drop=True)\n",
    "\n",
    "data_1=pd.read_csv('거주인구_위도경도.csv',encoding='cp949')\n",
    "data_pop = copy.deepcopy(data_1)\n",
    "data_pop=data_pop[data_pop['CTY_NM']=='강서구']\n",
    "data_pop=data_pop[['CTY_NM','X_AXIS','Y_AXIS','경도','위도','POP','POP_10','POP_20','POP_30','POP_40','POP_50','POP_60_O']]\n",
    "data_pop['min_dis']=0"
   ]
  },
  {
   "cell_type": "markdown",
   "metadata": {},
   "source": [
    "* 순차적으로 평균거리가 가장 짧아지도록 하는 초, 중, 고 추천"
   ]
  },
  {
   "cell_type": "code",
   "execution_count": 9,
   "metadata": {
    "scrolled": true
   },
   "outputs": [],
   "source": [
    "def phase(gu,data_pop,gong):\n",
    "    new_dis=[]\n",
    "    for i in range(len(gu)):\n",
    "        gu_1=gu[['학교명','위도','경도']].loc[i]\n",
    "        gu_1=pd.DataFrame(gu_1).T\n",
    "        gu_1.columns=['시설명','위도','경도']\n",
    "        new_data=pd.concat([gong,gu_1])\n",
    "        new_data=new_data.reset_index(drop=True)\n",
    "        data_new=method_1(data_pop,new_data)\n",
    "        pop_new=data_new['POP_10']*0.073+data_new['POP_20']*0.1219+data_new['POP_30']*0.214+data_new['POP_40']*0.247+data_new['POP_50']*0.293+data_new['POP_60_O']*0.287\n",
    "        data_new['NEW_POP'] = pop_new\n",
    "        data_new['dis_pop']=data_new['min_dis']*data_new['NEW_POP']\n",
    "\n",
    "        dis_sum=data_new.groupby('CTY_NM').sum()['dis_pop']\n",
    "        pop_df=data_new.groupby('CTY_NM').sum()\n",
    "        pop_sum=pop_df['POP_10']*0.073+pop_df['POP_20']*0.1219+pop_df['POP_30']*0.214+pop_df['POP_40']*0.247+pop_df['POP_50']*0.293+pop_df['POP_60_O']*0.287\n",
    "        per_dis_1=dis_sum/pop_sum\n",
    "        new_dis.append(per_dis_1.values[0])\n",
    "    new_phase=pd.concat([gu[['학교명','위도','경도']],pd.DataFrame(new_dis,columns=['new_dis'])],axis=1)\n",
    "    new_phase=new_phase.sort_values(by='new_dis').reset_index(drop=True)\n",
    "    return new_phase"
   ]
  },
  {
   "cell_type": "code",
   "execution_count": 11,
   "metadata": {
    "scrolled": true
   },
   "outputs": [],
   "source": [
    "school=pd.read_csv('서울시 초, 중, 고 학교 위치.csv',encoding='cp949')  ##강서구 학교 \n",
    "school=school[school['시도교육청명']=='서울특별시교육청']\n",
    "gangsu=school[school['소재지지번주소'].apply(lambda x: '강서구' in x)].reset_index(drop=True)\n",
    "\n",
    "data_1=pd.read_csv('거주인구_위도경도.csv',encoding='cp949')\n",
    "data_pop = copy.deepcopy(data_1)\n",
    "data_pop=data_pop[data_pop['CTY_NM']=='강서구']\n",
    "data_pop=data_pop[['CTY_NM','X_AXIS','Y_AXIS','경도','위도','POP','POP_10','POP_20','POP_30','POP_40','POP_50','POP_60_O']]\n",
    "data_pop['min_dis']=0\n",
    "\n",
    "phase1=phase(gangsu,data_pop,gong)"
   ]
  },
  {
   "cell_type": "code",
   "execution_count": 12,
   "metadata": {
    "scrolled": true
   },
   "outputs": [],
   "source": [
    "plus=pd.DataFrame(phase1[['학교명','위도','경도']].loc[0]).T\n",
    "plus.columns=['시설명','위도','경도']\n",
    "new_gong=pd.concat([gong,plus])\n",
    "new_gong=new_gong.reset_index(drop=True)\n",
    "\n",
    "school_name=phase1[['학교명']].loc[0][0]\n",
    "gangsu=gangsu[gangsu['학교명']!=school_name].reset_index(drop=True)\n",
    "                   \n",
    "data_pop = copy.deepcopy(data_1)\n",
    "data_pop=data_pop[data_pop['CTY_NM']=='강서구']\n",
    "data_pop=data_pop[['CTY_NM','X_AXIS','Y_AXIS','경도','위도','POP','POP_10','POP_20','POP_30','POP_40','POP_50','POP_60_O']]\n",
    "data_pop['min_dis']=0\n",
    "\n",
    "gangsu[['학교명','위도','경도']]\n",
    "\n",
    "phase2=phase(gangsu,data_pop,new_gong)"
   ]
  },
  {
   "cell_type": "code",
   "execution_count": 13,
   "metadata": {
    "scrolled": true
   },
   "outputs": [],
   "source": [
    "plus=pd.DataFrame(phase2[['학교명','위도','경도']].loc[0]).T\n",
    "plus.columns=['시설명','위도','경도']\n",
    "new_gong=pd.concat([new_gong,plus])\n",
    "new_gong=new_gong.reset_index(drop=True)\n",
    "\n",
    "school_name=phase2[['학교명']].loc[0][0]\n",
    "gangsu=gangsu[gangsu['학교명']!=school_name].reset_index(drop=True)\n",
    "                   \n",
    "data_pop = copy.deepcopy(data_1)\n",
    "data_pop=data_pop[data_pop['CTY_NM']=='강서구']\n",
    "data_pop=data_pop[['CTY_NM','X_AXIS','Y_AXIS','경도','위도','POP','POP_10','POP_20','POP_30','POP_40','POP_50','POP_60_O']]\n",
    "data_pop['min_dis']=0\n",
    "gangsu[['학교명','위도','경도']]\n",
    "\n",
    "phase3=phase(gangsu,data_pop,new_gong)"
   ]
  },
  {
   "cell_type": "code",
   "execution_count": 14,
   "metadata": {
    "scrolled": true
   },
   "outputs": [],
   "source": [
    "plus=pd.DataFrame(phase3[['학교명','위도','경도']].loc[0]).T\n",
    "plus.columns=['시설명','위도','경도']\n",
    "new_gong=pd.concat([new_gong,plus])\n",
    "new_gong=new_gong.reset_index(drop=True)\n",
    "\n",
    "school_name=phase3[['학교명']].loc[0][0]\n",
    "gangsu=gangsu[gangsu['학교명']!=school_name].reset_index(drop=True)       \n",
    "\n",
    "data_pop = copy.deepcopy(data_1)\n",
    "data_pop=data_pop[data_pop['CTY_NM']=='강서구']\n",
    "data_pop=data_pop[['CTY_NM','X_AXIS','Y_AXIS','경도','위도','POP','POP_10','POP_20','POP_30','POP_40','POP_50','POP_60_O']]\n",
    "data_pop['min_dis']=0\n",
    "gangsu[['학교명','위도','경도']]\n",
    "\n",
    "phase4=phase(gangsu,data_pop,new_gong)"
   ]
  },
  {
   "cell_type": "code",
   "execution_count": 15,
   "metadata": {
    "scrolled": true
   },
   "outputs": [],
   "source": [
    "plus=pd.DataFrame(phase4[['학교명','위도','경도']].loc[0]).T\n",
    "plus.columns=['시설명','위도','경도']\n",
    "new_gong=pd.concat([new_gong,plus])\n",
    "new_gong=new_gong.reset_index(drop=True)\n",
    "\n",
    "school_name=phase4[['학교명']].loc[0][0]\n",
    "gangsu=gangsu[gangsu['학교명']!=school_name].reset_index(drop=True)\n",
    "                   \n",
    "data_pop = copy.deepcopy(data_1)\n",
    "data_pop=data_pop[data_pop['CTY_NM']=='강서구']\n",
    "data_pop=data_pop[['CTY_NM','X_AXIS','Y_AXIS','경도','위도','POP','POP_10','POP_20','POP_30','POP_40','POP_50','POP_60_O']]\n",
    "data_pop['min_dis']=0\n",
    "gangsu[['학교명','위도','경도']]\n",
    "\n",
    "phase5=phase(gangsu,data_pop,new_gong)"
   ]
  },
  {
   "cell_type": "code",
   "execution_count": 16,
   "metadata": {
    "scrolled": true
   },
   "outputs": [],
   "source": [
    "plus=pd.DataFrame(phase5[['학교명','위도','경도']].loc[0]).T\n",
    "plus.columns=['시설명','위도','경도']\n",
    "new_gong=pd.concat([new_gong,plus])\n",
    "new_gong=new_gong.reset_index(drop=True)\n",
    "\n",
    "school_name=phase5[['학교명']].loc[0][0]\n",
    "gangsu=gangsu[gangsu['학교명']!=school_name].reset_index(drop=True)\n",
    "                   \n",
    "data_pop = copy.deepcopy(data_1)\n",
    "data_pop=data_pop[data_pop['CTY_NM']=='강서구']\n",
    "data_pop=data_pop[['CTY_NM','X_AXIS','Y_AXIS','경도','위도','POP','POP_10','POP_20','POP_30','POP_40','POP_50','POP_60_O']]\n",
    "data_pop['min_dis']=0\n",
    "gangsu[['학교명','위도','경도']]\n",
    "\n",
    "phase6=phase(gangsu,data_pop,new_gong)"
   ]
  },
  {
   "cell_type": "code",
   "execution_count": 17,
   "metadata": {
    "scrolled": true
   },
   "outputs": [],
   "source": [
    "plus=pd.DataFrame(phase6[['학교명','위도','경도']].loc[0]).T\n",
    "plus.columns=['시설명','위도','경도']\n",
    "new_gong=pd.concat([new_gong,plus])\n",
    "new_gong=new_gong.reset_index(drop=True)\n",
    "\n",
    "school_name=phase6[['학교명']].loc[0][0]\n",
    "gangsu=gangsu[gangsu['학교명']!=school_name].reset_index(drop=True)\n",
    "                   \n",
    "data_pop = copy.deepcopy(data_1)\n",
    "data_pop=data_pop[data_pop['CTY_NM']=='강서구']\n",
    "data_pop=data_pop[['CTY_NM','X_AXIS','Y_AXIS','경도','위도','POP','POP_10','POP_20','POP_30','POP_40','POP_50','POP_60_O']]\n",
    "data_pop['min_dis']=0\n",
    "gangsu[['학교명','위도','경도']]\n",
    "\n",
    "phase7=phase(gangsu,data_pop,new_gong)"
   ]
  },
  {
   "cell_type": "code",
   "execution_count": 18,
   "metadata": {
    "scrolled": true
   },
   "outputs": [],
   "source": [
    "plus=pd.DataFrame(phase7[['학교명','위도','경도']].loc[0]).T\n",
    "plus.columns=['시설명','위도','경도']\n",
    "new_gong=pd.concat([new_gong,plus])\n",
    "new_gong=new_gong.reset_index(drop=True)\n",
    "\n",
    "school_name=phase7[['학교명']].loc[0][0]\n",
    "gangsu=gangsu[gangsu['학교명']!=school_name].reset_index(drop=True)\n",
    "                   \n",
    "data_pop = copy.deepcopy(data_1)\n",
    "data_pop=data_pop[data_pop['CTY_NM']=='강서구']\n",
    "data_pop=data_pop[['CTY_NM','X_AXIS','Y_AXIS','경도','위도','POP','POP_10','POP_20','POP_30','POP_40','POP_50','POP_60_O']]\n",
    "data_pop['min_dis']=0\n",
    "gangsu[['학교명','위도','경도']]\n",
    "\n",
    "phase8=phase(gangsu,data_pop,new_gong)\n"
   ]
  },
  {
   "cell_type": "code",
   "execution_count": 19,
   "metadata": {},
   "outputs": [],
   "source": [
    "plus=pd.DataFrame(phase8[['학교명','위도','경도']].loc[0]).T\n",
    "plus.columns=['시설명','위도','경도']\n",
    "new_gong=pd.concat([new_gong,plus])\n",
    "new_gong=new_gong.reset_index(drop=True)\n",
    "\n",
    "school_name=phase8[['학교명']].loc[0][0]\n",
    "gangsu=gangsu[gangsu['학교명']!=school_name].reset_index(drop=True)\n",
    "                   \n",
    "data_pop = copy.deepcopy(data_1)\n",
    "data_pop=data_pop[data_pop['CTY_NM']=='강서구']\n",
    "data_pop=data_pop[['CTY_NM','X_AXIS','Y_AXIS','경도','위도','POP','POP_10','POP_20','POP_30','POP_40','POP_50','POP_60_O']]\n",
    "data_pop['min_dis']=0\n",
    "gangsu[['학교명','위도','경도']]\n",
    "\n",
    "phase9=phase(gangsu,data_pop,new_gong)\n"
   ]
  },
  {
   "cell_type": "code",
   "execution_count": 20,
   "metadata": {},
   "outputs": [],
   "source": [
    "plus=pd.DataFrame(phase9[['학교명','위도','경도']].loc[0]).T\n",
    "plus.columns=['시설명','위도','경도']\n",
    "new_gong=pd.concat([new_gong,plus])\n",
    "new_gong=new_gong.reset_index(drop=True)\n",
    "\n",
    "school_name=phase9[['학교명']].loc[0][0]\n",
    "gangsu=gangsu[gangsu['학교명']!=school_name].reset_index(drop=True)\n",
    "                   \n",
    "data_pop = copy.deepcopy(data_1)\n",
    "data_pop=data_pop[data_pop['CTY_NM']=='강서구']\n",
    "data_pop=data_pop[['CTY_NM','X_AXIS','Y_AXIS','경도','위도','POP','POP_10','POP_20','POP_30','POP_40','POP_50','POP_60_O']]\n",
    "data_pop['min_dis']=0\n",
    "gangsu[['학교명','위도','경도']]\n",
    "\n",
    "phase10=phase(gangsu,data_pop,new_gong)\n"
   ]
  },
  {
   "cell_type": "code",
   "execution_count": 21,
   "metadata": {},
   "outputs": [],
   "source": [
    "plus=pd.DataFrame(phase10[['학교명','위도','경도']].loc[0]).T\n",
    "plus.columns=['시설명','위도','경도']\n",
    "new_gong=pd.concat([new_gong,plus])\n",
    "new_gong=new_gong.reset_index(drop=True)\n",
    "\n",
    "school_name=phase10[['학교명']].loc[0][0]\n",
    "gangsu=gangsu[gangsu['학교명']!=school_name].reset_index(drop=True)\n",
    "                   \n",
    "data_pop = copy.deepcopy(data_1)\n",
    "data_pop=data_pop[data_pop['CTY_NM']=='강서구']\n",
    "data_pop=data_pop[['CTY_NM','X_AXIS','Y_AXIS','경도','위도','POP','POP_10','POP_20','POP_30','POP_40','POP_50','POP_60_O']]\n",
    "data_pop['min_dis']=0\n",
    "gangsu[['학교명','위도','경도']]\n",
    "\n",
    "phase11=phase(gangsu,data_pop,new_gong)\n"
   ]
  },
  {
   "cell_type": "code",
   "execution_count": 25,
   "metadata": {},
   "outputs": [],
   "source": [
    "gangsu_total=pd.concat([pd.DataFrame(phase1.loc[0]).T,pd.DataFrame(phase2.loc[0]).T,pd.DataFrame(phase3.loc[0]).T,\n",
    "                       pd.DataFrame(phase4.loc[0]).T,pd.DataFrame(phase5.loc[0]).T,pd.DataFrame(phase6.loc[0]).T,\n",
    "                       pd.DataFrame(phase7.loc[0]).T,pd.DataFrame(phase8.loc[0]).T,pd.DataFrame(phase9.loc[0]).T,\n",
    "                       pd.DataFrame(phase10.loc[0]).T,pd.DataFrame(phase11.loc[0]).T])"
   ]
  },
  {
   "cell_type": "code",
   "execution_count": 26,
   "metadata": {},
   "outputs": [
    {
     "data": {
      "text/html": [
       "<div>\n",
       "<style scoped>\n",
       "    .dataframe tbody tr th:only-of-type {\n",
       "        vertical-align: middle;\n",
       "    }\n",
       "\n",
       "    .dataframe tbody tr th {\n",
       "        vertical-align: top;\n",
       "    }\n",
       "\n",
       "    .dataframe thead th {\n",
       "        text-align: right;\n",
       "    }\n",
       "</style>\n",
       "<table border=\"1\" class=\"dataframe\">\n",
       "  <thead>\n",
       "    <tr style=\"text-align: right;\">\n",
       "      <th></th>\n",
       "      <th>학교명</th>\n",
       "      <th>위도</th>\n",
       "      <th>경도</th>\n",
       "      <th>new_dis</th>\n",
       "    </tr>\n",
       "  </thead>\n",
       "  <tbody>\n",
       "    <tr>\n",
       "      <th>0</th>\n",
       "      <td>서울신정초등학교</td>\n",
       "      <td>37.5321</td>\n",
       "      <td>126.852</td>\n",
       "      <td>650.4</td>\n",
       "    </tr>\n",
       "    <tr>\n",
       "      <th>0</th>\n",
       "      <td>서울신월초등학교</td>\n",
       "      <td>37.5404</td>\n",
       "      <td>126.839</td>\n",
       "      <td>604.528</td>\n",
       "    </tr>\n",
       "    <tr>\n",
       "      <th>0</th>\n",
       "      <td>덕원여자고등학교</td>\n",
       "      <td>37.5486</td>\n",
       "      <td>126.829</td>\n",
       "      <td>572.053</td>\n",
       "    </tr>\n",
       "    <tr>\n",
       "      <th>0</th>\n",
       "      <td>서울방화초등학교</td>\n",
       "      <td>37.5687</td>\n",
       "      <td>126.807</td>\n",
       "      <td>540.702</td>\n",
       "    </tr>\n",
       "    <tr>\n",
       "      <th>0</th>\n",
       "      <td>서울염창초등학교</td>\n",
       "      <td>37.5532</td>\n",
       "      <td>126.868</td>\n",
       "      <td>514.95</td>\n",
       "    </tr>\n",
       "    <tr>\n",
       "      <th>0</th>\n",
       "      <td>서울등명초등학교</td>\n",
       "      <td>37.5609</td>\n",
       "      <td>126.842</td>\n",
       "      <td>490.384</td>\n",
       "    </tr>\n",
       "    <tr>\n",
       "      <th>0</th>\n",
       "      <td>화원중학교</td>\n",
       "      <td>37.5362</td>\n",
       "      <td>126.842</td>\n",
       "      <td>467.56</td>\n",
       "    </tr>\n",
       "    <tr>\n",
       "      <th>0</th>\n",
       "      <td>서울등촌초등학교</td>\n",
       "      <td>37.5476</td>\n",
       "      <td>126.858</td>\n",
       "      <td>448.324</td>\n",
       "    </tr>\n",
       "    <tr>\n",
       "      <th>0</th>\n",
       "      <td>성재중학교</td>\n",
       "      <td>37.5695</td>\n",
       "      <td>126.845</td>\n",
       "      <td>432.816</td>\n",
       "    </tr>\n",
       "    <tr>\n",
       "      <th>0</th>\n",
       "      <td>서울화일초등학교</td>\n",
       "      <td>37.5407</td>\n",
       "      <td>126.847</td>\n",
       "      <td>418.087</td>\n",
       "    </tr>\n",
       "    <tr>\n",
       "      <th>0</th>\n",
       "      <td>서울송화초등학교</td>\n",
       "      <td>37.5682</td>\n",
       "      <td>126.818</td>\n",
       "      <td>406.314</td>\n",
       "    </tr>\n",
       "  </tbody>\n",
       "</table>\n",
       "</div>"
      ],
      "text/plain": [
       "        학교명       위도       경도  new_dis\n",
       "0  서울신정초등학교  37.5321  126.852    650.4\n",
       "0  서울신월초등학교  37.5404  126.839  604.528\n",
       "0  덕원여자고등학교  37.5486  126.829  572.053\n",
       "0  서울방화초등학교  37.5687  126.807  540.702\n",
       "0  서울염창초등학교  37.5532  126.868   514.95\n",
       "0  서울등명초등학교  37.5609  126.842  490.384\n",
       "0     화원중학교  37.5362  126.842   467.56\n",
       "0  서울등촌초등학교  37.5476  126.858  448.324\n",
       "0     성재중학교  37.5695  126.845  432.816\n",
       "0  서울화일초등학교  37.5407  126.847  418.087\n",
       "0  서울송화초등학교  37.5682  126.818  406.314"
      ]
     },
     "execution_count": 26,
     "metadata": {},
     "output_type": "execute_result"
    }
   ],
   "source": [
    "gangsu_total"
   ]
  },
  {
   "cell_type": "code",
   "execution_count": 27,
   "metadata": {},
   "outputs": [],
   "source": [
    "gangsu_total['ph']=['p1','p2','p3','p4','p5','p6','p7','p8','p9','p10','p11']"
   ]
  },
  {
   "cell_type": "code",
   "execution_count": 28,
   "metadata": {},
   "outputs": [],
   "source": [
    "gangsu_total.to_csv('강서구 11개의 학교 추천.csv',encoding='cp949')"
   ]
  },
  {
   "cell_type": "markdown",
   "metadata": {},
   "source": [
    "* 설문조사 전처리 데이터 불러오기"
   ]
  },
  {
   "cell_type": "markdown",
   "metadata": {},
   "source": [
    "\n",
    "## 독립변수 설명\n",
    "- f0 성별\n",
    "    * 1:남자\n",
    "    * 2:여자\n",
    "  \n",
    "  \n",
    "* f1 연령\n",
    "    * 1 : 0 ~ 18\n",
    "    * 2 : 19 ~ 29\n",
    "    * 3 : 30 ~ 49\n",
    "    * 4 : 50 ~ 64\n",
    "    * 5 : 64 ~ 90\n",
    "    \n",
    "    \n",
    "* f2 본인의 건강상태에 대한 인식\n",
    "    * 0 : 부정\n",
    "    * 1 : 긍정\n",
    "    \n",
    "    \n",
    "* f3 최근 1년간 규칙적 체육활동 참여 빈도\n",
    "    * 0 : 일주일에 1 ~ 3번 & 한달에 3번(부정)\n",
    "    * 1 : 일주일에 4 ~ 7번(긍정)\n",
    "    \n",
    "    \n",
    "* f4 최근 1개월간 신체적·정신적 문제로 인한 지장 여부\n",
    "    * 0 : 없음\n",
    "    * 1 : 있음\n",
    "    \n",
    "    \n",
    "* f5 학력\n",
    "    * 0 : 대졸미만\n",
    "    * 1: 대졸이상\n",
    "    \n",
    "    \n",
    "* f6 가구원수\n",
    "    * 1 : 1명\n",
    "    * 2 : 2명\n",
    "    * 3 : 3명이상"
   ]
  },
  {
   "cell_type": "code",
   "execution_count": 36,
   "metadata": {},
   "outputs": [
    {
     "data": {
      "text/html": [
       "<div>\n",
       "<style scoped>\n",
       "    .dataframe tbody tr th:only-of-type {\n",
       "        vertical-align: middle;\n",
       "    }\n",
       "\n",
       "    .dataframe tbody tr th {\n",
       "        vertical-align: top;\n",
       "    }\n",
       "\n",
       "    .dataframe thead th {\n",
       "        text-align: right;\n",
       "    }\n",
       "</style>\n",
       "<table border=\"1\" class=\"dataframe\">\n",
       "  <thead>\n",
       "    <tr style=\"text-align: right;\">\n",
       "      <th></th>\n",
       "      <th>f0</th>\n",
       "      <th>f1</th>\n",
       "      <th>f2</th>\n",
       "      <th>f3</th>\n",
       "      <th>f4</th>\n",
       "      <th>f5</th>\n",
       "      <th>f6</th>\n",
       "      <th>class</th>\n",
       "      <th>class2</th>\n",
       "      <th>class3</th>\n",
       "    </tr>\n",
       "  </thead>\n",
       "  <tbody>\n",
       "    <tr>\n",
       "      <th>0</th>\n",
       "      <td>1</td>\n",
       "      <td>1</td>\n",
       "      <td>0</td>\n",
       "      <td>1</td>\n",
       "      <td>1</td>\n",
       "      <td>0</td>\n",
       "      <td>3</td>\n",
       "      <td>106</td>\n",
       "      <td>120</td>\n",
       "      <td>116</td>\n",
       "    </tr>\n",
       "    <tr>\n",
       "      <th>1</th>\n",
       "      <td>1</td>\n",
       "      <td>1</td>\n",
       "      <td>1</td>\n",
       "      <td>0</td>\n",
       "      <td>1</td>\n",
       "      <td>0</td>\n",
       "      <td>3</td>\n",
       "      <td>120</td>\n",
       "      <td>120</td>\n",
       "      <td>116</td>\n",
       "    </tr>\n",
       "    <tr>\n",
       "      <th>2</th>\n",
       "      <td>1</td>\n",
       "      <td>1</td>\n",
       "      <td>1</td>\n",
       "      <td>0</td>\n",
       "      <td>0</td>\n",
       "      <td>0</td>\n",
       "      <td>3</td>\n",
       "      <td>120</td>\n",
       "      <td>120</td>\n",
       "      <td>409</td>\n",
       "    </tr>\n",
       "    <tr>\n",
       "      <th>3</th>\n",
       "      <td>1</td>\n",
       "      <td>1</td>\n",
       "      <td>1</td>\n",
       "      <td>0</td>\n",
       "      <td>1</td>\n",
       "      <td>0</td>\n",
       "      <td>3</td>\n",
       "      <td>106</td>\n",
       "      <td>103</td>\n",
       "      <td>106</td>\n",
       "    </tr>\n",
       "    <tr>\n",
       "      <th>4</th>\n",
       "      <td>1</td>\n",
       "      <td>1</td>\n",
       "      <td>1</td>\n",
       "      <td>0</td>\n",
       "      <td>1</td>\n",
       "      <td>0</td>\n",
       "      <td>3</td>\n",
       "      <td>120</td>\n",
       "      <td>120</td>\n",
       "      <td>409</td>\n",
       "    </tr>\n",
       "  </tbody>\n",
       "</table>\n",
       "</div>"
      ],
      "text/plain": [
       "  f0 f1 f2 f3 f4 f5 f6 class class2 class3\n",
       "0  1  1  0  1  1  0  3   106    120    116\n",
       "1  1  1  1  0  1  0  3   120    120    116\n",
       "2  1  1  1  0  0  0  3   120    120    409\n",
       "3  1  1  1  0  1  0  3   106    103    106\n",
       "4  1  1  1  0  1  0  3   120    120    409"
      ]
     },
     "execution_count": 36,
     "metadata": {},
     "output_type": "execute_result"
    }
   ],
   "source": [
    "people=pd.read_csv('인원result.csv',encoding='cp949')\n",
    "tool=pd.read_csv('도구result.csv',encoding='cp949')\n",
    "sisul=pd.read_csv('시설result.csv',encoding='cp949')\n",
    "sisul['class2']=people['class']\n",
    "sisul['class3']=tool['class']\n",
    "data=sisul\n",
    "\n",
    "data=data.astype('category')\n",
    "data.head()"
   ]
  },
  {
   "cell_type": "markdown",
   "metadata": {},
   "source": [
    "### class 설명\n",
    "* class(시설)\n",
    "    * 120 : 실내\n",
    "    * 106 : 실외\n",
    "    \n",
    "    \n",
    "* class2(인원)\n",
    "    * 116 : 1인\n",
    "    * 120 : 2인\n",
    "    * 103 : 3인 이상\n",
    "    \n",
    "    \n",
    "* class3(도구 사용)\n",
    "    * 116 : 도구 사용\n",
    "    * 103 : 손\n",
    "    * 106 : 발\n",
    "    * 409 : 전신"
   ]
  },
  {
   "cell_type": "markdown",
   "metadata": {},
   "source": [
    "### Y 설명\n",
    "* 종목\n",
    "    * 103 : 농구\n",
    "    * 106 : 축구,풋살\n",
    "    * 107 : 족구\n",
    "    * 116 : 테니스,정구,스퀴시,라켓볼\n",
    "    * 202 : 검도\n",
    "    * 405 : 수영\n",
    "    * 407 : 에어로빅\n",
    "    * 120 : 탁구\n",
    "    * 117 : 배드민턴\n",
    "    * 409 : 댄스 스포츠\n",
    "    * 408 : 요가, 필라테스, 태보"
   ]
  },
  {
   "cell_type": "code",
   "execution_count": 37,
   "metadata": {},
   "outputs": [
    {
     "data": {
      "text/html": [
       "<div>\n",
       "<style scoped>\n",
       "    .dataframe tbody tr th:only-of-type {\n",
       "        vertical-align: middle;\n",
       "    }\n",
       "\n",
       "    .dataframe tbody tr th {\n",
       "        vertical-align: top;\n",
       "    }\n",
       "\n",
       "    .dataframe thead th {\n",
       "        text-align: right;\n",
       "    }\n",
       "</style>\n",
       "<table border=\"1\" class=\"dataframe\">\n",
       "  <thead>\n",
       "    <tr style=\"text-align: right;\">\n",
       "      <th></th>\n",
       "      <th>f0</th>\n",
       "      <th>f1</th>\n",
       "      <th>f2</th>\n",
       "      <th>f3</th>\n",
       "      <th>f4</th>\n",
       "      <th>f5</th>\n",
       "      <th>f6</th>\n",
       "      <th>class</th>\n",
       "      <th>class2</th>\n",
       "      <th>class3</th>\n",
       "      <th>y</th>\n",
       "    </tr>\n",
       "  </thead>\n",
       "  <tbody>\n",
       "    <tr>\n",
       "      <th>0</th>\n",
       "      <td>1</td>\n",
       "      <td>1</td>\n",
       "      <td>0</td>\n",
       "      <td>1</td>\n",
       "      <td>1</td>\n",
       "      <td>0</td>\n",
       "      <td>3</td>\n",
       "      <td>106</td>\n",
       "      <td>120</td>\n",
       "      <td>116</td>\n",
       "      <td>116</td>\n",
       "    </tr>\n",
       "    <tr>\n",
       "      <th>1</th>\n",
       "      <td>1</td>\n",
       "      <td>1</td>\n",
       "      <td>1</td>\n",
       "      <td>0</td>\n",
       "      <td>1</td>\n",
       "      <td>0</td>\n",
       "      <td>3</td>\n",
       "      <td>120</td>\n",
       "      <td>120</td>\n",
       "      <td>116</td>\n",
       "      <td>117</td>\n",
       "    </tr>\n",
       "    <tr>\n",
       "      <th>2</th>\n",
       "      <td>1</td>\n",
       "      <td>1</td>\n",
       "      <td>1</td>\n",
       "      <td>0</td>\n",
       "      <td>0</td>\n",
       "      <td>0</td>\n",
       "      <td>3</td>\n",
       "      <td>120</td>\n",
       "      <td>120</td>\n",
       "      <td>409</td>\n",
       "      <td>405</td>\n",
       "    </tr>\n",
       "    <tr>\n",
       "      <th>3</th>\n",
       "      <td>1</td>\n",
       "      <td>1</td>\n",
       "      <td>1</td>\n",
       "      <td>0</td>\n",
       "      <td>1</td>\n",
       "      <td>0</td>\n",
       "      <td>3</td>\n",
       "      <td>106</td>\n",
       "      <td>103</td>\n",
       "      <td>106</td>\n",
       "      <td>106</td>\n",
       "    </tr>\n",
       "    <tr>\n",
       "      <th>4</th>\n",
       "      <td>1</td>\n",
       "      <td>1</td>\n",
       "      <td>1</td>\n",
       "      <td>0</td>\n",
       "      <td>1</td>\n",
       "      <td>0</td>\n",
       "      <td>3</td>\n",
       "      <td>120</td>\n",
       "      <td>120</td>\n",
       "      <td>409</td>\n",
       "      <td>408</td>\n",
       "    </tr>\n",
       "  </tbody>\n",
       "</table>\n",
       "</div>"
      ],
      "text/plain": [
       "  f0 f1 f2 f3 f4 f5 f6 class class2 class3    y\n",
       "0  1  1  0  1  1  0  3   106    120    116  116\n",
       "1  1  1  1  0  1  0  3   120    120    116  117\n",
       "2  1  1  1  0  0  0  3   120    120    409  405\n",
       "3  1  1  1  0  1  0  3   106    103    106  106\n",
       "4  1  1  1  0  1  0  3   120    120    409  408"
      ]
     },
     "execution_count": 37,
     "metadata": {},
     "output_type": "execute_result"
    }
   ],
   "source": [
    "data_y=pd.read_csv('원본.csv',encoding='cp949')\n",
    "\n",
    "data_y\n",
    "\n",
    "data['y']=data_y['class']\n",
    "data['y']=data['y'].astype('category')\n",
    "\n",
    "data.head()"
   ]
  },
  {
   "cell_type": "markdown",
   "metadata": {},
   "source": [
    "### MLP class1"
   ]
  },
  {
   "cell_type": "code",
   "execution_count": 116,
   "metadata": {},
   "outputs": [
    {
     "data": {
      "text/plain": [
       "0.817283950617284"
      ]
     },
     "execution_count": 116,
     "metadata": {},
     "output_type": "execute_result"
    }
   ],
   "source": [
    "#MLP 정규화\n",
    "from sklearn.model_selection import train_test_split\n",
    "from sklearn.neural_network import MLPClassifier\n",
    "from sklearn.preprocessing import MinMaxScaler\n",
    "\n",
    "scaler=MinMaxScaler(feature_range=(0,1))\n",
    "\n",
    "features=['f{}'.format(x) for x in range(0,7)]\n",
    "\n",
    "train_d,test_d=train_test_split(data,test_size=0.3)\n",
    "\n",
    "train_y=train_d['class']\n",
    "train_x=train_d[features]\n",
    "train_x=scaler.fit_transform(train_x)\n",
    "\n",
    "test_y=test_d['class']\n",
    "test_x=test_d[features]\n",
    "test_x=scaler.fit_transform(test_x)\n",
    "\n",
    "model_MLP1=MLPClassifier(max_iter=500)\n",
    "model_MLP1.fit(train_x,train_y)\n",
    "\n",
    "model_MLP1.score(test_x,test_y)"
   ]
  },
  {
   "cell_type": "markdown",
   "metadata": {},
   "source": [
    "### MLP class2"
   ]
  },
  {
   "cell_type": "code",
   "execution_count": 126,
   "metadata": {},
   "outputs": [
    {
     "data": {
      "text/plain": [
       "0.8682098765432099"
      ]
     },
     "execution_count": 126,
     "metadata": {},
     "output_type": "execute_result"
    }
   ],
   "source": [
    "scaler=MinMaxScaler(feature_range=(0,1))\n",
    "\n",
    "features=['f{}'.format(x) for x in range(0,7)]\n",
    "\n",
    "train_d,test_d=train_test_split(data,test_size=0.3)\n",
    "\n",
    "train_y=train_d['class2']\n",
    "train_x=train_d[features]\n",
    "train_x=scaler.fit_transform(train_x)\n",
    "\n",
    "test_y=test_d['class2']\n",
    "test_x=test_d[features]\n",
    "test_x=scaler.fit_transform(test_x)\n",
    "\n",
    "model_MLP2=MLPClassifier(max_iter=500)\n",
    "model_MLP2.fit(train_x,train_y)\n",
    "\n",
    "model_MLP2.score(test_x,test_y)"
   ]
  },
  {
   "cell_type": "markdown",
   "metadata": {},
   "source": [
    "### MLP class3"
   ]
  },
  {
   "cell_type": "code",
   "execution_count": 127,
   "metadata": {},
   "outputs": [
    {
     "data": {
      "text/plain": [
       "0.7225308641975309"
      ]
     },
     "execution_count": 127,
     "metadata": {},
     "output_type": "execute_result"
    }
   ],
   "source": [
    "scaler=MinMaxScaler(feature_range=(0,1))\n",
    "\n",
    "features=['f{}'.format(x) for x in range(0,7)]\n",
    "\n",
    "train_d,test_d=train_test_split(data,test_size=0.3)\n",
    "\n",
    "train_y=train_d['class3']\n",
    "train_x=train_d[features]\n",
    "train_x=scaler.fit_transform(train_x)\n",
    "\n",
    "test_y=test_d['class3']\n",
    "test_x=test_d[features]\n",
    "test_x=scaler.fit_transform(test_x)\n",
    "\n",
    "model_MLP3=MLPClassifier(max_iter=500)\n",
    "model_MLP3.fit(train_x,train_y)\n",
    "\n",
    "model_MLP3.score(test_x,test_y)"
   ]
  },
  {
   "cell_type": "markdown",
   "metadata": {},
   "source": [
    "### Gradient Boosting class1"
   ]
  },
  {
   "cell_type": "code",
   "execution_count": 119,
   "metadata": {},
   "outputs": [
    {
     "data": {
      "text/plain": [
       "0.817283950617284"
      ]
     },
     "execution_count": 119,
     "metadata": {},
     "output_type": "execute_result"
    }
   ],
   "source": [
    "from sklearn.ensemble import GradientBoostingClassifier\n",
    "\n",
    "train_d,test_d=train_test_split(data,test_size=0.3)\n",
    "\n",
    "train_y=train_d['class']\n",
    "train_x=train_d[features]\n",
    "\n",
    "test_y=test_d['class']\n",
    "test_x=test_d[features]\n",
    "\n",
    "model_GB1=GradientBoostingClassifier()\n",
    "model_GB1.fit(train_x,train_y)\n",
    "\n",
    "model_GB1.score(test_x,test_y)"
   ]
  },
  {
   "cell_type": "markdown",
   "metadata": {},
   "source": [
    "### Gradient Boosting class2"
   ]
  },
  {
   "cell_type": "code",
   "execution_count": 120,
   "metadata": {},
   "outputs": [
    {
     "data": {
      "text/plain": [
       "0.8765432098765432"
      ]
     },
     "execution_count": 120,
     "metadata": {},
     "output_type": "execute_result"
    }
   ],
   "source": [
    "train_d,test_d=train_test_split(data,test_size=0.3)\n",
    "\n",
    "train_y=train_d['class2']\n",
    "train_x=train_d[features]\n",
    "\n",
    "test_y=test_d['class2']\n",
    "test_x=test_d[features]\n",
    "\n",
    "model_GB2=GradientBoostingClassifier()\n",
    "model_GB2.fit(train_x,train_y)\n",
    "\n",
    "model_GB2.score(test_x,test_y)"
   ]
  },
  {
   "cell_type": "markdown",
   "metadata": {},
   "source": [
    "### Gradient Boosting class3"
   ]
  },
  {
   "cell_type": "code",
   "execution_count": 121,
   "metadata": {},
   "outputs": [
    {
     "data": {
      "text/plain": [
       "0.7108024691358025"
      ]
     },
     "execution_count": 121,
     "metadata": {},
     "output_type": "execute_result"
    }
   ],
   "source": [
    "train_d,test_d=train_test_split(data,test_size=0.3)\n",
    "\n",
    "train_y=train_d['class3']\n",
    "train_x=train_d[features]\n",
    "\n",
    "test_y=test_d['class3']\n",
    "test_x=test_d[features]\n",
    "\n",
    "model_GB3=GradientBoostingClassifier()\n",
    "model_GB3.fit(train_x,train_y)\n",
    "\n",
    "model_GB3.score(test_x,test_y)"
   ]
  },
  {
   "cell_type": "markdown",
   "metadata": {},
   "source": [
    "### RandomForest class1"
   ]
  },
  {
   "cell_type": "code",
   "execution_count": 133,
   "metadata": {},
   "outputs": [
    {
     "data": {
      "text/plain": [
       "0.8265432098765432"
      ]
     },
     "execution_count": 133,
     "metadata": {},
     "output_type": "execute_result"
    }
   ],
   "source": [
    "from sklearn.ensemble import RandomForestClassifier\n",
    "\n",
    "\n",
    "train_d,test_d=train_test_split(data,test_size=0.3)\n",
    "\n",
    "train_y=train_d['class']\n",
    "train_x=train_d[features]\n",
    "\n",
    "test_y=test_d['class']\n",
    "test_x=test_d[features]\n",
    "\n",
    "model_RF1=RandomForestClassifier(n_estimators=100, oob_score=True, random_state=456,min_samples_leaf=10)\n",
    "model_RF1.fit(train_x,train_y)\n",
    "\n",
    "model_RF1.score(test_x,test_y)"
   ]
  },
  {
   "cell_type": "markdown",
   "metadata": {},
   "source": [
    "### RandomForest class2"
   ]
  },
  {
   "cell_type": "code",
   "execution_count": 123,
   "metadata": {},
   "outputs": [
    {
     "data": {
      "text/plain": [
       "0.8870370370370371"
      ]
     },
     "execution_count": 123,
     "metadata": {},
     "output_type": "execute_result"
    }
   ],
   "source": [
    "train_d,test_d=train_test_split(data,test_size=0.3)\n",
    "\n",
    "train_y=train_d['class2']\n",
    "train_x=train_d[features]\n",
    "\n",
    "test_y=test_d['class2']\n",
    "test_x=test_d[features]\n",
    "\n",
    "model_RF2=RandomForestClassifier(n_estimators=100, oob_score=True, random_state=456,min_samples_leaf=10)\n",
    "model_RF2.fit(train_x,train_y)\n",
    "\n",
    "model_RF2.score(test_x,test_y)"
   ]
  },
  {
   "cell_type": "markdown",
   "metadata": {},
   "source": [
    "### RandomForest class3"
   ]
  },
  {
   "cell_type": "code",
   "execution_count": 125,
   "metadata": {},
   "outputs": [
    {
     "data": {
      "text/plain": [
       "0.7283950617283951"
      ]
     },
     "execution_count": 125,
     "metadata": {},
     "output_type": "execute_result"
    }
   ],
   "source": [
    "train_d,test_d=train_test_split(data,test_size=0.3)\n",
    "\n",
    "train_y=train_d['class3']\n",
    "train_x=train_d[features]\n",
    "\n",
    "test_y=test_d['class3']\n",
    "test_x=test_d[features]\n",
    "\n",
    "model_RF3=RandomForestClassifier(n_estimators=100, oob_score=True, random_state=456,min_samples_leaf=10)\n",
    "model_RF3.fit(train_x,train_y)\n",
    "\n",
    "model_RF3.score(test_x,test_y)"
   ]
  },
  {
   "cell_type": "markdown",
   "metadata": {},
   "source": [
    "* MLP Accuracy\n",
    "    * class1 : 0.817283950617284\n",
    "    * class2 : 0.8682098765432099\n",
    "    * class3 : 0.7225308641975309\n",
    "\n",
    "\n",
    "* Gradient Boosting Accuracy\n",
    "    * class1 : 0.817283950617284\n",
    "    * class2 : 0.8765432098765432\n",
    "    * class3 : 0.7108024691358025\n",
    "    \n",
    "    \n",
    "* RandomForest Accuracy\n",
    "    * class1 : 0.8265432098765432\n",
    "    * class2 : 0.8870370370370371\n",
    "    * class3 : 0.7283950617283951\n",
    "    \n",
    "\n",
    "* 속도가 빠르고, 정확도 높은 랜덤포레스트 모델 선택"
   ]
  },
  {
   "cell_type": "markdown",
   "metadata": {},
   "source": [
    "## 종목 추천 Decision Tree Model"
   ]
  },
  {
   "cell_type": "code",
   "execution_count": 135,
   "metadata": {},
   "outputs": [
    {
     "data": {
      "text/plain": [
       "0.5743827160493827"
      ]
     },
     "execution_count": 135,
     "metadata": {},
     "output_type": "execute_result"
    }
   ],
   "source": [
    "from sklearn.tree import DecisionTreeClassifier, export_graphviz\n",
    "\n",
    "train_d,test_d=train_test_split(data,test_size=0.3)\n",
    "\n",
    "train_y=train_d['y']\n",
    "train_x=train_d[['class','class2','class3']]\n",
    "\n",
    "test_y=test_d['y']\n",
    "test_x=test_d[['class','class2','class3']]\n",
    "\n",
    "model_DT=DecisionTreeClassifier(max_depth=5,random_state=100)\n",
    "\n",
    "model_DT=model_DT.fit(train_x,train_y)\n",
    "\n",
    "model_DT.score(test_x,test_y)\n",
    "\n",
    "#export_graphviz.fit(model,out_file)\n",
    "\n",
    "#export_graphviz(model,out_file='시각화.html',impurity=False,filled=True)\n",
    "\n",
    "#!pip insat\n",
    "\n",
    "#(graph,)=pydot.graph_from_dot_file('시각화.',encoding='utf8')\n",
    "#graph.write_png('시각화.jpg')\n",
    "\n",
    "#model.score(train_x,train_y)"
   ]
  },
  {
   "cell_type": "markdown",
   "metadata": {},
   "source": [
    "* 서울 신정초등학교 화곡 2동 인구 샘플링 데이터"
   ]
  },
  {
   "cell_type": "code",
   "execution_count": 97,
   "metadata": {},
   "outputs": [],
   "source": [
    "sample_data=pd.read_csv('화곡2동.csv',encoding='cp949')\n",
    "sample_data=sample_data.astype('category')\n",
    "sample_data['ex']=1"
   ]
  },
  {
   "cell_type": "code",
   "execution_count": 99,
   "metadata": {},
   "outputs": [],
   "source": [
    "group=sample_data.groupby(['성별', '연령대', '건강인식여부', '규칙적운동여부', '정신건강여부', '학력', '가구원수']).sum()"
   ]
  },
  {
   "cell_type": "code",
   "execution_count": 102,
   "metadata": {},
   "outputs": [
    {
     "data": {
      "text/html": [
       "<div>\n",
       "<style scoped>\n",
       "    .dataframe tbody tr th:only-of-type {\n",
       "        vertical-align: middle;\n",
       "    }\n",
       "\n",
       "    .dataframe tbody tr th {\n",
       "        vertical-align: top;\n",
       "    }\n",
       "\n",
       "    .dataframe thead th {\n",
       "        text-align: right;\n",
       "    }\n",
       "</style>\n",
       "<table border=\"1\" class=\"dataframe\">\n",
       "  <thead>\n",
       "    <tr style=\"text-align: right;\">\n",
       "      <th></th>\n",
       "      <th></th>\n",
       "      <th></th>\n",
       "      <th></th>\n",
       "      <th></th>\n",
       "      <th></th>\n",
       "      <th></th>\n",
       "      <th>ex</th>\n",
       "    </tr>\n",
       "    <tr>\n",
       "      <th>성별</th>\n",
       "      <th>연령대</th>\n",
       "      <th>건강인식여부</th>\n",
       "      <th>규칙적운동여부</th>\n",
       "      <th>정신건강여부</th>\n",
       "      <th>학력</th>\n",
       "      <th>가구원수</th>\n",
       "      <th></th>\n",
       "    </tr>\n",
       "  </thead>\n",
       "  <tbody>\n",
       "    <tr>\n",
       "      <th>2</th>\n",
       "      <th>3</th>\n",
       "      <th>0</th>\n",
       "      <th>0</th>\n",
       "      <th>1</th>\n",
       "      <th>0</th>\n",
       "      <th>3</th>\n",
       "      <td>207.0</td>\n",
       "    </tr>\n",
       "    <tr>\n",
       "      <th>1</th>\n",
       "      <th>3</th>\n",
       "      <th>0</th>\n",
       "      <th>0</th>\n",
       "      <th>1</th>\n",
       "      <th>0</th>\n",
       "      <th>3</th>\n",
       "      <td>180.0</td>\n",
       "    </tr>\n",
       "    <tr>\n",
       "      <th>2</th>\n",
       "      <th>3</th>\n",
       "      <th>0</th>\n",
       "      <th>0</th>\n",
       "      <th>1</th>\n",
       "      <th>1</th>\n",
       "      <th>3</th>\n",
       "      <td>167.0</td>\n",
       "    </tr>\n",
       "    <tr>\n",
       "      <th>1</th>\n",
       "      <th>3</th>\n",
       "      <th>0</th>\n",
       "      <th>0</th>\n",
       "      <th>1</th>\n",
       "      <th>1</th>\n",
       "      <th>3</th>\n",
       "      <td>155.0</td>\n",
       "    </tr>\n",
       "    <tr>\n",
       "      <th rowspan=\"7\" valign=\"top\">2</th>\n",
       "      <th>4</th>\n",
       "      <th>0</th>\n",
       "      <th>0</th>\n",
       "      <th>1</th>\n",
       "      <th>0</th>\n",
       "      <th>3</th>\n",
       "      <td>150.0</td>\n",
       "    </tr>\n",
       "    <tr>\n",
       "      <th>...</th>\n",
       "      <th>...</th>\n",
       "      <th>...</th>\n",
       "      <th>...</th>\n",
       "      <th>...</th>\n",
       "      <th>...</th>\n",
       "      <td>...</td>\n",
       "    </tr>\n",
       "    <tr>\n",
       "      <th rowspan=\"5\" valign=\"top\">5</th>\n",
       "      <th>0</th>\n",
       "      <th>1</th>\n",
       "      <th>0</th>\n",
       "      <th>1</th>\n",
       "      <th>1</th>\n",
       "      <td>NaN</td>\n",
       "    </tr>\n",
       "    <tr>\n",
       "      <th rowspan=\"4\" valign=\"top\">1</th>\n",
       "      <th rowspan=\"4\" valign=\"top\">1</th>\n",
       "      <th rowspan=\"4\" valign=\"top\">0</th>\n",
       "      <th rowspan=\"3\" valign=\"top\">0</th>\n",
       "      <th>1</th>\n",
       "      <td>NaN</td>\n",
       "    </tr>\n",
       "    <tr>\n",
       "      <th>2</th>\n",
       "      <td>NaN</td>\n",
       "    </tr>\n",
       "    <tr>\n",
       "      <th>3</th>\n",
       "      <td>NaN</td>\n",
       "    </tr>\n",
       "    <tr>\n",
       "      <th>1</th>\n",
       "      <th>1</th>\n",
       "      <td>NaN</td>\n",
       "    </tr>\n",
       "  </tbody>\n",
       "</table>\n",
       "<p>480 rows × 1 columns</p>\n",
       "</div>"
      ],
      "text/plain": [
       "                                         ex\n",
       "성별 연령대 건강인식여부 규칙적운동여부 정신건강여부 학력 가구원수       \n",
       "2  3   0      0       1      0  3     207.0\n",
       "1  3   0      0       1      0  3     180.0\n",
       "2  3   0      0       1      1  3     167.0\n",
       "1  3   0      0       1      1  3     155.0\n",
       "2  4   0      0       1      0  3     150.0\n",
       "...                                     ...\n",
       "   5   0      1       0      1  1       NaN\n",
       "       1      1       0      0  1       NaN\n",
       "                                2       NaN\n",
       "                                3       NaN\n",
       "                             1  1       NaN\n",
       "\n",
       "[480 rows x 1 columns]"
      ]
     },
     "execution_count": 102,
     "metadata": {},
     "output_type": "execute_result"
    }
   ],
   "source": [
    "group.sort_values(by='ex',ascending=False)"
   ]
  },
  {
   "cell_type": "markdown",
   "metadata": {},
   "source": [
    "* 화곡 2동에 가장 많은 인구 유형(1순위)"
   ]
  },
  {
   "cell_type": "code",
   "execution_count": 155,
   "metadata": {},
   "outputs": [],
   "source": [
    "sample1=list(group.sort_values(by='ex',ascending=False).iloc[0,:-1].name)\n",
    "sample1=pd.DataFrame(sample1).astype('category').T"
   ]
  },
  {
   "cell_type": "code",
   "execution_count": 167,
   "metadata": {},
   "outputs": [],
   "source": [
    "sample1_class1=model_RF1.predict(sample1)\n",
    "sample1_class2=model_RF2.predict(sample1)\n",
    "sample1_class3=model_RF3.predict(sample1)\n",
    "sample1_df=pd.DataFrame([sample1_class1,sample1_class2,sample1_class3]).astype('category').T"
   ]
  },
  {
   "cell_type": "markdown",
   "metadata": {},
   "source": [
    "* 서울신정초등학교(화곡 2동) 수영 종목 추천"
   ]
  },
  {
   "cell_type": "code",
   "execution_count": 168,
   "metadata": {
    "scrolled": true
   },
   "outputs": [
    {
     "data": {
      "text/plain": [
       "array([405], dtype=int64)"
      ]
     },
     "execution_count": 168,
     "metadata": {},
     "output_type": "execute_result"
    }
   ],
   "source": [
    "model_DT.predict(sample1_df)"
   ]
  },
  {
   "cell_type": "markdown",
   "metadata": {},
   "source": [
    "* 화곡 2동에 두 번째로 많은 인구 유형(2순위)"
   ]
  },
  {
   "cell_type": "code",
   "execution_count": 169,
   "metadata": {},
   "outputs": [],
   "source": [
    "sample2=list(group.sort_values(by='ex',ascending=False).iloc[1,:-1].name)\n",
    "sample2=pd.DataFrame(sample2).astype('category').T\n",
    "sample2_class1=model_RF1.predict(sample2)\n",
    "sample2_class2=model_RF2.predict(sample2)\n",
    "sample2_class3=model_RF3.predict(sample2)\n",
    "sample2_df=pd.DataFrame([sample2_class1,sample2_class2,sample2_class3]).astype('category').T"
   ]
  },
  {
   "cell_type": "markdown",
   "metadata": {},
   "source": [
    "* 서울신정초등학교(화곡 2동) 수영 종목 추천"
   ]
  },
  {
   "cell_type": "code",
   "execution_count": 170,
   "metadata": {
    "scrolled": true
   },
   "outputs": [
    {
     "data": {
      "text/plain": [
       "array([405], dtype=int64)"
      ]
     },
     "execution_count": 170,
     "metadata": {},
     "output_type": "execute_result"
    }
   ],
   "source": [
    "model_DT.predict(sample2_df)"
   ]
  },
  {
   "cell_type": "markdown",
   "metadata": {},
   "source": [
    "* 화곡 2동에 세 번째로 많은 인구 유형(3순위)"
   ]
  },
  {
   "cell_type": "code",
   "execution_count": 171,
   "metadata": {},
   "outputs": [],
   "source": [
    "sample3=list(group.sort_values(by='ex',ascending=False).iloc[2,:-1].name)\n",
    "sample3=pd.DataFrame(sample3).astype('category').T\n",
    "sample3_class1=model_RF1.predict(sample3)\n",
    "sample3_class2=model_RF2.predict(sample3)\n",
    "sample3_class3=model_RF3.predict(sample3)\n",
    "sample3_df=pd.DataFrame([sample3_class1,sample3_class2,sample3_class3]).astype('category').T"
   ]
  },
  {
   "cell_type": "markdown",
   "metadata": {},
   "source": [
    "* 서울신정초등학교(화곡 2동) 수영 종목 추천"
   ]
  },
  {
   "cell_type": "code",
   "execution_count": 172,
   "metadata": {},
   "outputs": [
    {
     "data": {
      "text/plain": [
       "array([405], dtype=int64)"
      ]
     },
     "execution_count": 172,
     "metadata": {},
     "output_type": "execute_result"
    }
   ],
   "source": [
    "model_DT.predict(sample3_df)"
   ]
  },
  {
   "cell_type": "markdown",
   "metadata": {},
   "source": [
    "* 1순위, 2순위, 3순위 인구 유형 모두 수영 종목 추천"
   ]
  },
  {
   "cell_type": "markdown",
   "metadata": {},
   "source": [
    "## 결론\n",
    "* 1순위 구 : 강서구\n",
    "* 최적 입지 선정 : 서울신정초등학교(화곡2동)\n",
    "* 종목 추천 : 수영"
   ]
  }
 ],
 "metadata": {
  "kernelspec": {
   "display_name": "Python 3",
   "language": "python",
   "name": "python3"
  },
  "language_info": {
   "codemirror_mode": {
    "name": "ipython",
    "version": 3
   },
   "file_extension": ".py",
   "mimetype": "text/x-python",
   "name": "python",
   "nbconvert_exporter": "python",
   "pygments_lexer": "ipython3",
   "version": "3.8.3"
  }
 },
 "nbformat": 4,
 "nbformat_minor": 4
}
